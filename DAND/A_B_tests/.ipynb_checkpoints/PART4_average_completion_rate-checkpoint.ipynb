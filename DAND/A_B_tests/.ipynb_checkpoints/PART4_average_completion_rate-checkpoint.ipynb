{
 "cells": [
  {
   "cell_type": "code",
   "execution_count": 1,
   "metadata": {
    "collapsed": true
   },
   "outputs": [],
   "source": [
    "import numpy as np\n",
    "import pandas as pd\n",
    "import matplotlib.pyplot as plt\n",
    "% matplotlib inline\n",
    "\n",
    "np.random.seed(42)"
   ]
  },
  {
   "cell_type": "code",
   "execution_count": 2,
   "metadata": {
    "collapsed": false
   },
   "outputs": [
    {
     "data": {
      "text/html": [
       "<div>\n",
       "<table border=\"1\" class=\"dataframe\">\n",
       "  <thead>\n",
       "    <tr style=\"text-align: right;\">\n",
       "      <th></th>\n",
       "      <th>timestamp</th>\n",
       "      <th>id</th>\n",
       "      <th>group</th>\n",
       "      <th>total_days</th>\n",
       "      <th>completed</th>\n",
       "    </tr>\n",
       "  </thead>\n",
       "  <tbody>\n",
       "    <tr>\n",
       "      <th>0</th>\n",
       "      <td>2015-08-10 17:06:01.032740</td>\n",
       "      <td>610019</td>\n",
       "      <td>experiment</td>\n",
       "      <td>97</td>\n",
       "      <td>True</td>\n",
       "    </tr>\n",
       "    <tr>\n",
       "      <th>1</th>\n",
       "      <td>2015-08-10 17:15:28.950975</td>\n",
       "      <td>690224</td>\n",
       "      <td>control</td>\n",
       "      <td>75</td>\n",
       "      <td>False</td>\n",
       "    </tr>\n",
       "    <tr>\n",
       "      <th>2</th>\n",
       "      <td>2015-08-10 17:34:40.920384</td>\n",
       "      <td>564994</td>\n",
       "      <td>experiment</td>\n",
       "      <td>128</td>\n",
       "      <td>True</td>\n",
       "    </tr>\n",
       "    <tr>\n",
       "      <th>3</th>\n",
       "      <td>2015-08-10 17:50:39.847374</td>\n",
       "      <td>849588</td>\n",
       "      <td>experiment</td>\n",
       "      <td>66</td>\n",
       "      <td>False</td>\n",
       "    </tr>\n",
       "    <tr>\n",
       "      <th>4</th>\n",
       "      <td>2015-08-10 19:10:40.650599</td>\n",
       "      <td>849826</td>\n",
       "      <td>experiment</td>\n",
       "      <td>34</td>\n",
       "      <td>False</td>\n",
       "    </tr>\n",
       "  </tbody>\n",
       "</table>\n",
       "</div>"
      ],
      "text/plain": [
       "                    timestamp      id       group  total_days completed\n",
       "0  2015-08-10 17:06:01.032740  610019  experiment          97      True\n",
       "1  2015-08-10 17:15:28.950975  690224     control          75     False\n",
       "2  2015-08-10 17:34:40.920384  564994  experiment         128      True\n",
       "3  2015-08-10 17:50:39.847374  849588  experiment          66     False\n",
       "4  2015-08-10 19:10:40.650599  849826  experiment          34     False"
      ]
     },
     "execution_count": 2,
     "metadata": {},
     "output_type": "execute_result"
    }
   ],
   "source": [
    "df = pd.read_csv('classroom_actions.csv')\n",
    "df.head()"
   ]
  },
  {
   "cell_type": "code",
   "execution_count": 3,
   "metadata": {
    "collapsed": false
   },
   "outputs": [
    {
     "name": "stdout",
     "output_type": "stream",
     "text": [
      "0.3719951923076923\n"
     ]
    }
   ],
   "source": [
    "# Create dataframe with all control records\n",
    "control_df = df[df.group == 'control']\n",
    "\n",
    "# Compute completion rate\n",
    "control_ctr = control_df.groupby('completed').count()\n",
    "\n",
    "# Display completion rate\n",
    "completed = control_ctr.loc[control_ctr.index == True].id\n",
    "not_completed = control_ctr.loc[control_ctr.index == False].id\n",
    "\n",
    "completed = completed.tolist()[0]\n",
    "not_completed = not_completed.tolist()[0]\n",
    "\n",
    "control_ctr = completed/(completed + not_completed)\n",
    "print(control_ctr)"
   ]
  },
  {
   "cell_type": "code",
   "execution_count": 4,
   "metadata": {
    "collapsed": false
   },
   "outputs": [
    {
     "name": "stdout",
     "output_type": "stream",
     "text": [
      "0.3935334872979215\n"
     ]
    }
   ],
   "source": [
    "# Create dataframe with all experiment records\n",
    "experiment_df = df[df.group == 'experiment']\n",
    "\n",
    "# Compute completion rate\n",
    "experiment_ctr = experiment_df.groupby('completed').count()\n",
    "\n",
    "# Display completion rate\n",
    "completed = experiment_ctr.loc[experiment_ctr.index == True].id\n",
    "not_completed = experiment_ctr.loc[experiment_ctr.index == False].id\n",
    "\n",
    "completed = completed.tolist()[0]\n",
    "not_completed = not_completed.tolist()[0]\n",
    "\n",
    "experiment_ctr = completed/(completed + not_completed)\n",
    "print(experiment_ctr)"
   ]
  },
  {
   "cell_type": "code",
   "execution_count": 5,
   "metadata": {
    "collapsed": false
   },
   "outputs": [
    {
     "data": {
      "text/plain": [
       "-0.02153829499022919"
      ]
     },
     "execution_count": 5,
     "metadata": {},
     "output_type": "execute_result"
    }
   ],
   "source": [
    "# Compute observed difference in completion rates\n",
    "obs_diff = experiment_ctr - control_ctr\n",
    "\n",
    "# Display observed difference in completion rates\n",
    "obs_diff"
   ]
  },
  {
   "cell_type": "code",
   "execution_count": 6,
   "metadata": {
    "collapsed": true
   },
   "outputs": [],
   "source": [
    "# create sampling distribution of difference in average classroom times\n",
    "# with boostrapping\n",
    "diffs = []\n",
    "for _ in range(10000):\n",
    "    df_s = df.sample(df.shape[0], replace=True)\n",
    "    \n",
    "    \n",
    "    control_df = df_s[df_s.group == 'control']\n",
    "\n",
    "    # Compute completion rate\n",
    "    control_ctr = control_df.groupby('completed').count()\n",
    "\n",
    "    # Display completion rate\n",
    "    completed = control_ctr.loc[control_ctr.index == True].id\n",
    "    not_completed = control_ctr.loc[control_ctr.index == False].id\n",
    "\n",
    "    completed = completed.tolist()[0]\n",
    "    not_completed = not_completed.tolist()[0]\n",
    "\n",
    "    control_ctr = completed/(completed + not_completed)\n",
    "    \n",
    "    \n",
    "    # Create dataframe with all experiment records\n",
    "    experiment_df = df_s[df_s.group == 'experiment']\n",
    "\n",
    "    # Compute completion rate\n",
    "    experiment_ctr = experiment_df.groupby('completed').count()\n",
    "    \n",
    "    # Display completion rate\n",
    "    completed = experiment_ctr.loc[experiment_ctr.index == True].id\n",
    "    not_completed = experiment_ctr.loc[experiment_ctr.index == False].id\n",
    "\n",
    "    completed = completed.tolist()[0]\n",
    "    not_completed = not_completed.tolist()[0]\n",
    "\n",
    "    experiment_ctr = completed/(completed + not_completed)\n",
    "    \n",
    "    obs_diff_1 = experiment_ctr - control_ctr\n",
    "    \n",
    "    diffs.append(obs_diff_1)\n"
   ]
  },
  {
   "cell_type": "code",
   "execution_count": 7,
   "metadata": {
    "collapsed": true
   },
   "outputs": [],
   "source": [
    "# convert to numpy array\n",
    "diffs = np.array(diffs)"
   ]
  },
  {
   "cell_type": "code",
   "execution_count": 8,
   "metadata": {
    "collapsed": false
   },
   "outputs": [
    {
     "data": {
      "image/png": "[encoded data removed]",
      "text/plain": [
       "<matplotlib.figure.Figure at 0x11345b048>"
      ]
     },
     "metadata": {},
     "output_type": "display_data"
    }
   ],
   "source": [
    "# plot sampling distribution\n",
    "plt.hist(diffs);"
   ]
  },
  {
   "cell_type": "code",
   "execution_count": 9,
   "metadata": {
    "collapsed": false
   },
   "outputs": [],
   "source": [
    "# simulate distribution under the null hypothesis\n",
    "null_vals = np.random.normal(loc=0, scale=diffs.std(), size=diffs.shape)"
   ]
  },
  {
   "cell_type": "code",
   "execution_count": 10,
   "metadata": {
    "collapsed": false
   },
   "outputs": [
    {
     "data": {
      "text/plain": [
       "<matplotlib.lines.Line2D at 0x10483d390>"
      ]
     },
     "execution_count": 10,
     "metadata": {},
     "output_type": "execute_result"
    },
    {
     "data": {
      "image/png": "[encoded data removed]",
      "text/plain": [
       "<matplotlib.figure.Figure at 0x10483d5c0>"
      ]
     },
     "metadata": {},
     "output_type": "display_data"
    }
   ],
   "source": [
    "# plot null distribution\n",
    "plt.hist(null_vals)\n",
    "\n",
    "# plot line for observed statistic\n",
    "plt.axvline(obs_diff, color='red')\n"
   ]
  },
  {
   "cell_type": "code",
   "execution_count": 11,
   "metadata": {
    "collapsed": false
   },
   "outputs": [
    {
     "data": {
      "text/plain": [
       "0.9143"
      ]
     },
     "execution_count": 11,
     "metadata": {},
     "output_type": "execute_result"
    }
   ],
   "source": [
    "# compute p value\n",
    "(null_vals > obs_diff).mean()"
   ]
  },
  {
   "cell_type": "code",
   "execution_count": null,
   "metadata": {
    "collapsed": true
   },
   "outputs": [],
   "source": []
  }
 ],
 "metadata": {
  "anaconda-cloud": {},
  "kernelspec": {
   "display_name": "Python [default]",
   "language": "python",
   "name": "python3"
  },
  "language_info": {
   "codemirror_mode": {
    "name": "ipython",
    "version": 3
   },
   "file_extension": ".py",
   "mimetype": "text/x-python",
   "name": "python",
   "nbconvert_exporter": "python",
   "pygments_lexer": "ipython3",
   "version": "3.5.2"
  }
 },
 "nbformat": 4,
 "nbformat_minor": 2
}
